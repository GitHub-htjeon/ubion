{
 "cells": [
  {
   "cell_type": "code",
   "execution_count": 1,
   "metadata": {},
   "outputs": [
    {
     "name": "stdout",
     "output_type": "stream",
     "text": [
      "10\n"
     ]
    }
   ],
   "source": [
    "a=10\n",
    "print(a)"
   ]
  },
  {
   "cell_type": "markdown",
   "metadata": {},
   "source": [
    "# 샵이 제목을  의미함 마크다운\n",
    "## 제목2\n",
    "### 제목3\n"
   ]
  },
  {
   "cell_type": "markdown",
   "metadata": {},
   "source": [
    "#순서형리스트\n",
    "1. list\n",
    "2. list2\n",
    "## 비순서형리스트\n",
    "-list1\n",
    "-list2\n",
    "    -sub list1"
   ]
  },
  {
   "cell_type": "markdown",
   "metadata": {},
   "source": [
    "a=10\n",
    "b='test'"
   ]
  },
  {
   "cell_type": "code",
   "execution_count": 2,
   "metadata": {},
   "outputs": [],
   "source": [
    "a=10\n",
    "b='test'\n"
   ]
  },
  {
   "cell_type": "code",
   "execution_count": 3,
   "metadata": {},
   "outputs": [
    {
     "name": "stdout",
     "output_type": "stream",
     "text": [
      "10\n",
      "<class 'int'>\n",
      "test\n",
      "<class 'str'>\n"
     ]
    }
   ],
   "source": [
    "print(a)\n",
    "print(type(a))\n",
    "print(b)\n",
    "print(type(b))"
   ]
  },
  {
   "cell_type": "code",
   "execution_count": 5,
   "metadata": {},
   "outputs": [
    {
     "name": "stdout",
     "output_type": "stream",
     "text": [
      "a는 20보다 작거나 같다.\n"
     ]
    }
   ],
   "source": [
    "#조건문 \n",
    "# if조건식:\n",
    "if a>20 :\n",
    "    print('a는 20보다 크다')\n",
    "else :\n",
    "    print('a는 20보다 작거나 같다.')"
   ]
  },
  {
   "cell_type": "code",
   "execution_count": 6,
   "metadata": {},
   "outputs": [
    {
     "name": "stdout",
     "output_type": "stream",
     "text": [
      "75\n"
     ]
    }
   ],
   "source": [
    "#조건식이 여려개인 경우\n",
    "score = int (input(\"점수를 입력하시오\"))\n",
    "print(score)"
   ]
  },
  {
   "cell_type": "code",
   "execution_count": 7,
   "metadata": {},
   "outputs": [
    {
     "name": "stdout",
     "output_type": "stream",
     "text": [
      "c\n"
     ]
    }
   ],
   "source": [
    "if score>=90:\n",
    "    print('A')\n",
    "elif score>=80:\n",
    "    print('B')\n",
    "elif score>=70:\n",
    "    print('c')\n",
    "else:\n",
    "    print('F')\n",
    "\n"
   ]
  },
  {
   "cell_type": "markdown",
   "metadata": {},
   "source": [
    "#비순서형\n",
    "- LIST1\n",
    "- LIST2\n",
    "    - SUB LIST1\n",
    "    - SUB LIST2"
   ]
  },
  {
   "cell_type": "markdown",
   "metadata": {},
   "source": [
    "# 제목\n",
    "## 제목\n",
    "### 제목\n",
    "#### 제목"
   ]
  },
  {
   "cell_type": "markdown",
   "metadata": {},
   "source": []
  },
  {
   "cell_type": "markdown",
   "metadata": {},
   "source": [
    "# 순서형리스트\n",
    "1. LIST1\n",
    "2. LIST2\n",
    "3. LIST3"
   ]
  },
  {
   "cell_type": "markdown",
   "metadata": {},
   "source": [
    "# 비순서형리스트\n",
    "- LIST1\n",
    "- LIST2 \n",
    "    - LIST1\n",
    "    - LIST2"
   ]
  },
  {
   "cell_type": "markdown",
   "metadata": {},
   "source": [
    "### 반복문\n",
    "- for 문\n",
    "    - for 변수명 in rang(시작값,종료값,증가값)\n",
    "    - for 변수명 in 자료형 데이터(튜플,리스트)\n",
    "- while문\n",
    "    - 시작값지정 while조건식을 이용하여 거짓이 될때 까지 반복실행\n",
    "    -반복실행 코드에 시작값을 증가시키는 코드 추가\n",
    "    - break이용 반복종료\n",
    "-break\n",
    "    -반복문을 강제로 종료\n",
    "-continue\n",
    "    "
   ]
  },
  {
   "cell_type": "code",
   "execution_count": 12,
   "metadata": {},
   "outputs": [
    {
     "name": "stdout",
     "output_type": "stream",
     "text": [
      "[1, 2, 3, 4, 5, 6, 7, 8, 9]\n"
     ]
    }
   ],
   "source": [
    "print(list(range(1,10,1)))"
   ]
  },
  {
   "cell_type": "code",
   "execution_count": 18,
   "metadata": {},
   "outputs": [
    {
     "name": "stdout",
     "output_type": "stream",
     "text": [
      "55\n"
     ]
    }
   ],
   "source": [
    "#1부터 10까지 합계\n",
    "# 합계라는 변수생성 초기값은 0대입\n",
    "result=0\n",
    "for i in range(1,11,1):\n",
    "    result += i\n",
    "print(result)"
   ]
  },
  {
   "cell_type": "code",
   "execution_count": 17,
   "metadata": {},
   "outputs": [
    {
     "name": "stdout",
     "output_type": "stream",
     "text": [
      "55\n"
     ]
    }
   ],
   "source": [
    "i = 0\n",
    "result = 0\n",
    "while i<=10:\n",
    "    result += i\n",
    "    i += 1\n",
    "print(result)"
   ]
  },
  {
   "cell_type": "code",
   "execution_count": 22,
   "metadata": {},
   "outputs": [
    {
     "name": "stdout",
     "output_type": "stream",
     "text": [
      "2*1=2\n",
      "2*2=4\n",
      "2*3=6\n",
      "2*4=8\n",
      "2*5=10\n",
      "2*6=12\n",
      "2*7=14\n",
      "2*8=16\n",
      "2*9=18\n",
      "3*1=3\n",
      "3*2=6\n",
      "3*3=9\n",
      "3*4=12\n",
      "3*5=15\n",
      "3*6=18\n",
      "3*7=21\n",
      "3*8=24\n",
      "3*9=27\n",
      "4*1=4\n",
      "4*2=8\n",
      "4*3=12\n",
      "4*4=16\n",
      "4*5=20\n",
      "4*6=24\n",
      "4*7=28\n",
      "4*8=32\n",
      "4*9=36\n",
      "5*1=5\n",
      "5*2=10\n",
      "5*3=15\n",
      "5*4=20\n",
      "5*5=25\n",
      "5*6=30\n",
      "5*7=35\n",
      "5*8=40\n",
      "5*9=45\n",
      "6*1=6\n",
      "6*2=12\n",
      "6*3=18\n",
      "6*4=24\n",
      "6*5=30\n",
      "6*6=36\n",
      "6*7=42\n",
      "6*8=48\n",
      "6*9=54\n",
      "7*1=7\n",
      "7*2=14\n",
      "7*3=21\n",
      "7*4=28\n",
      "7*5=35\n",
      "7*6=42\n",
      "7*7=49\n",
      "7*8=56\n",
      "7*9=63\n",
      "8*1=8\n",
      "8*2=16\n",
      "8*3=24\n",
      "8*4=32\n",
      "8*5=40\n",
      "8*6=48\n",
      "8*7=56\n",
      "8*8=64\n",
      "8*9=72\n",
      "9*1=9\n",
      "9*2=18\n",
      "9*3=27\n",
      "9*4=36\n",
      "9*5=45\n",
      "9*6=54\n",
      "9*7=63\n",
      "9*8=72\n",
      "9*9=81\n"
     ]
    }
   ],
   "source": [
    "#다중 for 문 예 구구단\n",
    "for i in range(2, 10, 1): \n",
    "    for j in range(1, 10, 1):\n",
    "        print(f'{i}*{j}={i*j}')\n",
    "\n"
   ]
  },
  {
   "cell_type": "code",
   "execution_count": 23,
   "metadata": {},
   "outputs": [
    {
     "name": "stdout",
     "output_type": "stream",
     "text": [
      "프로그램종료\n"
     ]
    }
   ],
   "source": [
    "#페르마의 정리가 참인가를 확인해보자\n",
    "# n =3 이라가정하고 a,b,c에 1부터 10까지 값들을 넣어서 해당조건식인 참인경우 존재하는가 확인 (a^n+b^n=c^n)\n",
    "n=3\n",
    "for i in range(1,11,1):\n",
    "    for j in range(1,11,1):\n",
    "        for k in range(1,11,1):\n",
    "            if i**n + j**n == k**n:\n",
    "                print(i,j,k)\n",
    "print('프로그램종료')"
   ]
  },
  {
   "cell_type": "code",
   "execution_count": 24,
   "metadata": {},
   "outputs": [
    {
     "name": "stdout",
     "output_type": "stream",
     "text": [
      "2 3 5 7 "
     ]
    }
   ],
   "source": [
    "### 반복문 문제\n",
    "#- 소수인 데이터를 출력하라\n",
    "#- 2부터 10까지 소수만 출력하시오\n",
    "_end = 10\n",
    "\n",
    "for i in range(2,_end+1,1):\n",
    "    check=True\n",
    "    for j in range(2,i,1):\n",
    "        if i%j==0:\n",
    "            check=False\n",
    "            break\n",
    "        \n",
    "    if check==True:\n",
    "        print(i,end=\" \")\n"
   ]
  },
  {
   "cell_type": "code",
   "execution_count": null,
   "metadata": {},
   "outputs": [],
   "source": []
  }
 ],
 "metadata": {
  "kernelspec": {
   "display_name": "Python 3",
   "language": "python",
   "name": "python3"
  },
  "language_info": {
   "codemirror_mode": {
    "name": "ipython",
    "version": 3
   },
   "file_extension": ".py",
   "mimetype": "text/x-python",
   "name": "python",
   "nbconvert_exporter": "python",
   "pygments_lexer": "ipython3",
   "version": "3.11.5"
  }
 },
 "nbformat": 4,
 "nbformat_minor": 2
}
